{
 "cells": [
  {
   "cell_type": "markdown",
   "metadata": {
    "colab_type": "text",
    "id": "jAmhYqfBLUEy"
   },
   "source": [
    "# Sentiment analysis of IMDb movie reviews: a study on features selection & classification algorithms\n",
    "\n",
    "\n",
    "## **Phuong T.M. Chu, Lan Nguyen and Tu Nguyen**\n",
    "\n",
    "![](https://i.imgur.com/NjCp49S.png)\n",
    "\n",
    "## INTRODUCTION:\n",
    "\n",
    "**IMDb (Internet Movie Database)** is an online database of information related to films, television programs, home videos, video games, and streaming content online – including cast, production crew and personal biographies, plot summaries, trivia, fan and critical reviews, and ratings. An additional fan feature, message boards, was abandoned in February 2017. Originally a fan-operated website, the database is owned and operated by IMDb.com, Inc., a subsidiary of Amazon.\n",
    "By late 1990, the lists included almost 10,000 movies and television series correlated with actors and actresses appearing therein. On October 17, 1990, Needham developed and posted a collection of Unix shell scripts which could be used to search the four lists, and thus the database that would become the IMDb was born.At the time, it was known as the `rec.arts.movies movie database`.\n",
    "Internet Movie Database users are invited to participate in the site's ever-growing wealth of information by rating movies on a rating scale.\n",
    "The labeled dataset consists of 50,000 IMDB movie reviews. No individual movie has more than 30 reviews. The 25,000 reviews labeled training set does not include any of the same movies as the 25,000 review test set. \n",
    "\n",
    "### *There are three columns in the movie review dataset:*\n",
    "* Id\n",
    "*\tReview \n",
    "*\tSentiment\n",
    "\n",
    "### *There are two classes in the movie review dataset:*\n",
    "*\t1 : >= 7 rating\n",
    "*\t0: <5 rating\n",
    "\n",
    "### *This project explores the applicability of machine learning based classification techniques:*\n",
    "1.\tLogistic Regression\n",
    "2.\tDecision Tree\n",
    "3.\tRandom Forest \n",
    "4.\tGaussian Naïve Bayes & Multinomial Naïve Bayes\n",
    "5.\tK-Nearest Neighbor\n",
    "6.\tSMV – Support Vector Machine\n",
    "\n",
    "We are going to determine that feature selection improves the performance of sentiment based classification, but it depends on the method adopted and the number of feature selected. The experimental results presented in this project show that Logistic Regression performs better than other techniques for sentiment based classification.\n"
   ]
  },
  {
   "cell_type": "code",
   "execution_count": 2,
   "metadata": {
    "colab": {},
    "colab_type": "code",
    "id": "Hh6ekyY1x2SS"
   },
   "outputs": [],
   "source": [
    "# Import libraries: pandas, numpy, matplotlib, seaborn\n",
    "import pandas as pd\n",
    "import numpy as np\n",
    "import seaborn as sns\n",
    "import matplotlib.pyplot as plt\n",
    "%matplotlib inline\n",
    "import re\n",
    "\n",
    "import warnings\n",
    "warnings.filterwarnings('ignore')"
   ]
  },
  {
   "cell_type": "code",
   "execution_count": 3,
   "metadata": {
    "colab": {},
    "colab_type": "code",
    "id": "X-Ljb8DCzC_F"
   },
   "outputs": [],
   "source": [
    "data = pd.read_csv('./movie_review.csv',sep='\\t',encoding='latin-1')"
   ]
  },
  {
   "cell_type": "code",
   "execution_count": 4,
   "metadata": {
    "colab": {
     "base_uri": "https://localhost:8080/",
     "height": 197
    },
    "colab_type": "code",
    "id": "8_8wFSozx2Sf",
    "outputId": "62c3db84-8b3b-49d0-b397-c2d818ddcb70"
   },
   "outputs": [
    {
     "data": {
      "text/html": [
       "<div>\n",
       "<style scoped>\n",
       "    .dataframe tbody tr th:only-of-type {\n",
       "        vertical-align: middle;\n",
       "    }\n",
       "\n",
       "    .dataframe tbody tr th {\n",
       "        vertical-align: top;\n",
       "    }\n",
       "\n",
       "    .dataframe thead th {\n",
       "        text-align: right;\n",
       "    }\n",
       "</style>\n",
       "<table border=\"1\" class=\"dataframe\">\n",
       "  <thead>\n",
       "    <tr style=\"text-align: right;\">\n",
       "      <th></th>\n",
       "      <th>id</th>\n",
       "      <th>review</th>\n",
       "      <th>sentiment</th>\n",
       "    </tr>\n",
       "  </thead>\n",
       "  <tbody>\n",
       "    <tr>\n",
       "      <th>11534</th>\n",
       "      <td>11282_7</td>\n",
       "      <td>This was the second of the series of 6 \\classi...</td>\n",
       "      <td>1</td>\n",
       "    </tr>\n",
       "    <tr>\n",
       "      <th>11490</th>\n",
       "      <td>11674_10</td>\n",
       "      <td>The planning episodes were a bit dull, but whe...</td>\n",
       "      <td>1</td>\n",
       "    </tr>\n",
       "    <tr>\n",
       "      <th>9662</th>\n",
       "      <td>8510_7</td>\n",
       "      <td>This was the eighth and final Columbia Whistle...</td>\n",
       "      <td>1</td>\n",
       "    </tr>\n",
       "    <tr>\n",
       "      <th>9226</th>\n",
       "      <td>2231_10</td>\n",
       "      <td>I have seen \\Miracles Still Happen\\\" now at le...</td>\n",
       "      <td>1</td>\n",
       "    </tr>\n",
       "    <tr>\n",
       "      <th>923</th>\n",
       "      <td>4687_8</td>\n",
       "      <td>Lizzie Borden's Love Crimes is an important fi...</td>\n",
       "      <td>1</td>\n",
       "    </tr>\n",
       "  </tbody>\n",
       "</table>\n",
       "</div>"
      ],
      "text/plain": [
       "             id                                             review  sentiment\n",
       "11534   11282_7  This was the second of the series of 6 \\classi...          1\n",
       "11490  11674_10  The planning episodes were a bit dull, but whe...          1\n",
       "9662     8510_7  This was the eighth and final Columbia Whistle...          1\n",
       "9226    2231_10  I have seen \\Miracles Still Happen\\\" now at le...          1\n",
       "923      4687_8  Lizzie Borden's Love Crimes is an important fi...          1"
      ]
     },
     "execution_count": 4,
     "metadata": {},
     "output_type": "execute_result"
    }
   ],
   "source": [
    "data.sample(5)"
   ]
  },
  {
   "cell_type": "code",
   "execution_count": 5,
   "metadata": {
    "colab": {
     "base_uri": "https://localhost:8080/",
     "height": 158
    },
    "colab_type": "code",
    "id": "lqfBRQ42x2Si",
    "outputId": "b2aaee64-65f5-474e-d67d-d76dbb40781b"
   },
   "outputs": [
    {
     "name": "stdout",
     "output_type": "stream",
     "text": [
      "<class 'pandas.core.frame.DataFrame'>\n",
      "RangeIndex: 22500 entries, 0 to 22499\n",
      "Data columns (total 3 columns):\n",
      "id           22500 non-null object\n",
      "review       22500 non-null object\n",
      "sentiment    22500 non-null int64\n",
      "dtypes: int64(1), object(2)\n",
      "memory usage: 527.4+ KB\n"
     ]
    }
   ],
   "source": [
    "data.info()"
   ]
  },
  {
   "cell_type": "code",
   "execution_count": 6,
   "metadata": {
    "colab": {
     "base_uri": "https://localhost:8080/",
     "height": 70
    },
    "colab_type": "code",
    "id": "ZV7iFHFJx2Sl",
    "outputId": "76e07dad-ce6a-4267-be55-e9522f0affc7"
   },
   "outputs": [
    {
     "data": {
      "text/plain": [
       "1    11278\n",
       "0    11222\n",
       "Name: sentiment, dtype: int64"
      ]
     },
     "execution_count": 6,
     "metadata": {},
     "output_type": "execute_result"
    }
   ],
   "source": [
    "data['sentiment'].value_counts()"
   ]
  },
  {
   "cell_type": "code",
   "execution_count": 7,
   "metadata": {
    "colab": {
     "base_uri": "https://localhost:8080/",
     "height": 282
    },
    "colab_type": "code",
    "id": "hGvk2tekx2So",
    "outputId": "e081ef41-5264-4bb5-b28a-0e3f67d2662a"
   },
   "outputs": [
    {
     "data": {
      "image/png": "[encoded data removed]",
      "text/plain": [
       "<Figure size 432x288 with 1 Axes>"
      ]
     },
     "metadata": {
      "needs_background": "light"
     },
     "output_type": "display_data"
    }
   ],
   "source": [
    "sns.countplot(x='sentiment',data = data)\n",
    "plt.show()"
   ]
  },
  {
   "cell_type": "markdown",
   "metadata": {
    "colab_type": "text",
    "id": "I7vlSa7Qx2Sr"
   },
   "source": [
    "We have a balanced dataset with **11,278 labeled 1** observations and **11,222 labeled 0** observations."
   ]
  },
  {
   "cell_type": "markdown",
   "metadata": {
    "colab_type": "text",
    "id": "mICjP1ywx2Ss"
   },
   "source": [
    "## Step 1: Data Clean up"
   ]
  },
  {
   "cell_type": "code",
   "execution_count": 53,
   "metadata": {
    "colab": {},
    "colab_type": "code",
    "id": "5fTQWFRIx2St"
   },
   "outputs": [],
   "source": [
    "def preprocessor(text):\n",
    "    \"\"\" Return a cleaned version of text\n",
    "    \"\"\"\n",
    "    # Remove HTML markup\n",
    "    text = re.sub('<[^>]*>', '', text)\n",
    "    # Save emoticons for later appending\n",
    "    emoticons = re.findall('(?::|;|=)(?:-)?(?:\\)|\\(|D|P)', text)\n",
    "    # Remove any non-word character and append the emoticons,\n",
    "    # removing the nose character for standarization. Convert to lower case\n",
    "    text = (re.sub('[\\W]+', ' ', text.lower()) + ' ' + ' '.join(emoticons).replace('-', ''))\n",
    "    \n",
    "    return text"
   ]
  },
  {
   "cell_type": "code",
   "execution_count": 54,
   "metadata": {
    "colab": {},
    "colab_type": "code",
    "id": "d2yFV1NSx2Sv"
   },
   "outputs": [],
   "source": [
    "from nltk.stem import PorterStemmer\n",
    "\n",
    "porter = PorterStemmer()\n",
    "\n",
    "def tokenizer_porter(text):\n",
    "    token = []\n",
    "    for word in text.split():\n",
    "        token.append(porter.stem(word))\n",
    "    \n",
    "    return token"
   ]
  },
  {
   "cell_type": "markdown",
   "metadata": {
    "colab_type": "text",
    "id": "yxK_HfELx2Sy"
   },
   "source": [
    "## Step 2: Representation"
   ]
  },
  {
   "cell_type": "code",
   "execution_count": 55,
   "metadata": {
    "colab": {},
    "colab_type": "code",
    "id": "SghMb0vQx2Sz"
   },
   "outputs": [],
   "source": [
    "from sklearn.feature_extraction import text \n",
    "from sklearn.feature_extraction.text import TfidfVectorizer\n",
    "from nltk.corpus import stopwords\n",
    "import nltk\n",
    "\n",
    "from sklearn.model_selection import train_test_split\n",
    "\n",
    "X = data['review'] \n",
    "y = data['sentiment']\n",
    "\n",
    "my_additional_stop_words = []\n",
    "\n",
    "stop = text.ENGLISH_STOP_WORDS.union(my_additional_stop_words)\n",
    "\n",
    "tfidf = TfidfVectorizer(stop_words=stop,\n",
    "                        tokenizer=tokenizer_porter,\n",
    "                        preprocessor=preprocessor)\n",
    "\n",
    "X_tfidf = tfidf.fit_transform(X)\n",
    "\n",
    "# split the dataset in train and test\n",
    "X_train, X_test, y_train, y_test = train_test_split(X_tfidf, y, test_size=0.3, random_state = 101)"
   ]
  },
  {
   "cell_type": "code",
   "execution_count": 57,
   "metadata": {
    "colab": {
     "base_uri": "https://localhost:8080/",
     "height": 52
    },
    "colab_type": "code",
    "id": "CKW9S_dhkFMQ",
    "outputId": "30d07c28-4565-4b05-f356-9c4c67c4e07b"
   },
   "outputs": [
    {
     "data": {
      "text/plain": [
       "<15750x50478 sparse matrix of type '<class 'numpy.float64'>'\n",
       "\twith 1465529 stored elements in Compressed Sparse Row format>"
      ]
     },
     "execution_count": 57,
     "metadata": {},
     "output_type": "execute_result"
    }
   ],
   "source": [
    "X_train "
   ]
  },
  {
   "cell_type": "markdown",
   "metadata": {
    "colab_type": "text",
    "id": "6p1dMAbmx2S2"
   },
   "source": [
    "## Step 3: Classification\n",
    "\n",
    "We train our algorithm by several models\n",
    "\n",
    "### Logistic Regression"
   ]
  },
  {
   "cell_type": "code",
   "execution_count": 58,
   "metadata": {
    "colab": {
     "base_uri": "https://localhost:8080/",
     "height": 105
    },
    "colab_type": "code",
    "id": "ZF-fVq08x2S3",
    "outputId": "b1b2cf0a-631c-4dbb-9401-6844c0c5c98a"
   },
   "outputs": [
    {
     "data": {
      "text/plain": [
       "LogisticRegression(C=1.0, class_weight=None, dual=False, fit_intercept=True,\n",
       "          intercept_scaling=1, max_iter=100, multi_class='warn',\n",
       "          n_jobs=None, penalty='l2', random_state=None, solver='warn',\n",
       "          tol=0.0001, verbose=0, warm_start=False)"
      ]
     },
     "execution_count": 58,
     "metadata": {},
     "output_type": "execute_result"
    }
   ],
   "source": [
    "from sklearn.linear_model import LogisticRegression\n",
    "\n",
    "clf = LogisticRegression()\n",
    "\n",
    "clf.fit(X_train, y_train)"
   ]
  },
  {
   "cell_type": "code",
   "execution_count": 59,
   "metadata": {
    "colab": {
     "base_uri": "https://localhost:8080/",
     "height": 263
    },
    "colab_type": "code",
    "id": "lQrmqjXwx2S5",
    "outputId": "80262f0a-8483-44da-ca19-07e1ba38bd78"
   },
   "outputs": [
    {
     "name": "stdout",
     "output_type": "stream",
     "text": [
      "The accuracy score is: 0.884\n",
      "The confusion matrix is: \n",
      " [[2932  476]\n",
      " [ 307 3035]]\n",
      "The classification report is: \n",
      "               precision    recall  f1-score   support\n",
      "\n",
      "           0       0.91      0.86      0.88      3408\n",
      "           1       0.86      0.91      0.89      3342\n",
      "\n",
      "   micro avg       0.88      0.88      0.88      6750\n",
      "   macro avg       0.88      0.88      0.88      6750\n",
      "weighted avg       0.89      0.88      0.88      6750\n",
      "\n"
     ]
    }
   ],
   "source": [
    "from sklearn.metrics import accuracy_score, confusion_matrix, classification_report\n",
    "\n",
    "# Now apply those above metrics to evaluate your model\n",
    "predictions = clf.predict(X_test)\n",
    "\n",
    "print('The accuracy score is:',accuracy_score(y_test,predictions))\n",
    "print('The confusion matrix is:','\\n',confusion_matrix(y_test,predictions))\n",
    "print('The classification report is:','\\n',classification_report(y_test,predictions))\n"
   ]
  },
  {
   "cell_type": "markdown",
   "metadata": {
    "colab_type": "text",
    "id": "ibFpUgPSx2S7"
   },
   "source": [
    "### Decision Tree"
   ]
  },
  {
   "cell_type": "code",
   "execution_count": 60,
   "metadata": {
    "colab": {},
    "colab_type": "code",
    "id": "56bFWEBex2S8"
   },
   "outputs": [],
   "source": [
    "from sklearn.tree import DecisionTreeClassifier"
   ]
  },
  {
   "cell_type": "code",
   "execution_count": 61,
   "metadata": {
    "colab": {
     "base_uri": "https://localhost:8080/",
     "height": 123
    },
    "colab_type": "code",
    "id": "IBnwtSpOx2S-",
    "outputId": "e6fd082d-7713-44ea-e363-7a94e1cc5261"
   },
   "outputs": [
    {
     "data": {
      "text/plain": [
       "DecisionTreeClassifier(class_weight=None, criterion='gini', max_depth=None,\n",
       "            max_features=None, max_leaf_nodes=None,\n",
       "            min_impurity_decrease=0.0, min_impurity_split=None,\n",
       "            min_samples_leaf=1, min_samples_split=2,\n",
       "            min_weight_fraction_leaf=0.0, presort=False, random_state=None,\n",
       "            splitter='best')"
      ]
     },
     "execution_count": 61,
     "metadata": {},
     "output_type": "execute_result"
    }
   ],
   "source": [
    "dtc = DecisionTreeClassifier()\n",
    "dtc.fit(X_train,y_train)"
   ]
  },
  {
   "cell_type": "code",
   "execution_count": 62,
   "metadata": {
    "colab": {},
    "colab_type": "code",
    "id": "TNalwg5lx2TA"
   },
   "outputs": [],
   "source": [
    "dtc_predictions = dtc.predict(X_test)"
   ]
  },
  {
   "cell_type": "code",
   "execution_count": 63,
   "metadata": {
    "colab": {
     "base_uri": "https://localhost:8080/",
     "height": 263
    },
    "colab_type": "code",
    "id": "KyJ8l9U7x2TC",
    "outputId": "31312c19-feb6-4764-82f7-7b3430ff67ad"
   },
   "outputs": [
    {
     "name": "stdout",
     "output_type": "stream",
     "text": [
      "The accuracy score is: 0.7088888888888889\n",
      "The confusion matrix is: \n",
      " [[2416  992]\n",
      " [ 973 2369]]\n",
      "The classification report is: \n",
      "               precision    recall  f1-score   support\n",
      "\n",
      "           0       0.71      0.71      0.71      3408\n",
      "           1       0.70      0.71      0.71      3342\n",
      "\n",
      "   micro avg       0.71      0.71      0.71      6750\n",
      "   macro avg       0.71      0.71      0.71      6750\n",
      "weighted avg       0.71      0.71      0.71      6750\n",
      "\n"
     ]
    }
   ],
   "source": [
    "print('The accuracy score is:',accuracy_score(y_test,dtc_predictions))\n",
    "print('The confusion matrix is:','\\n',confusion_matrix(y_test,dtc_predictions))\n",
    "print('The classification report is:','\\n',classification_report(y_test,dtc_predictions))"
   ]
  },
  {
   "cell_type": "markdown",
   "metadata": {
    "colab_type": "text",
    "id": "IHFXJP05x2TE"
   },
   "source": [
    "### Random Forest\n",
    "\n",
    "**Baseline Model**"
   ]
  },
  {
   "cell_type": "code",
   "execution_count": 49,
   "metadata": {
    "colab": {},
    "colab_type": "code",
    "id": "sSInvhoSx2TF"
   },
   "outputs": [],
   "source": [
    "from sklearn.ensemble import RandomForestClassifier"
   ]
  },
  {
   "cell_type": "code",
   "execution_count": 50,
   "metadata": {
    "colab": {
     "base_uri": "https://localhost:8080/",
     "height": 140
    },
    "colab_type": "code",
    "id": "G8J86k7Qx2TH",
    "outputId": "a76fba00-4c26-417d-8990-5734f937bf9e"
   },
   "outputs": [
    {
     "data": {
      "text/plain": [
       "RandomForestClassifier(bootstrap=True, class_weight=None, criterion='gini',\n",
       "            max_depth=None, max_features='auto', max_leaf_nodes=None,\n",
       "            min_impurity_decrease=0.0, min_impurity_split=None,\n",
       "            min_samples_leaf=1, min_samples_split=2,\n",
       "            min_weight_fraction_leaf=0.0, n_estimators=10, n_jobs=None,\n",
       "            oob_score=False, random_state=None, verbose=0,\n",
       "            warm_start=False)"
      ]
     },
     "execution_count": 50,
     "metadata": {},
     "output_type": "execute_result"
    }
   ],
   "source": [
    "rfc = RandomForestClassifier()\n",
    "rfc.fit(X_train, y_train)"
   ]
  },
  {
   "cell_type": "code",
   "execution_count": 51,
   "metadata": {
    "colab": {},
    "colab_type": "code",
    "id": "ZATeu3Dax2TL"
   },
   "outputs": [],
   "source": [
    "rfc_predictions = rfc.predict(X_test)"
   ]
  },
  {
   "cell_type": "code",
   "execution_count": 52,
   "metadata": {
    "colab": {
     "base_uri": "https://localhost:8080/",
     "height": 263
    },
    "colab_type": "code",
    "id": "MGVI3SMYx2TP",
    "outputId": "ff6004fa-5ea9-425c-be9a-d63f6b75d302"
   },
   "outputs": [
    {
     "name": "stdout",
     "output_type": "stream",
     "text": [
      "The accuracy score is: 0.732\n",
      "The confusion matrix is: \n",
      " [[2770  638]\n",
      " [1171 2171]]\n",
      "The classification report is: \n",
      "               precision    recall  f1-score   support\n",
      "\n",
      "           0       0.70      0.81      0.75      3408\n",
      "           1       0.77      0.65      0.71      3342\n",
      "\n",
      "   micro avg       0.73      0.73      0.73      6750\n",
      "   macro avg       0.74      0.73      0.73      6750\n",
      "weighted avg       0.74      0.73      0.73      6750\n",
      "\n"
     ]
    }
   ],
   "source": [
    "print('The accuracy score is:',accuracy_score(y_test,rfc_predictions))\n",
    "print('The confusion matrix is:','\\n',confusion_matrix(y_test,rfc_predictions))\n",
    "print('The classification report is:','\\n',classification_report(y_test,rfc_predictions))"
   ]
  },
  {
   "cell_type": "markdown",
   "metadata": {
    "colab_type": "text",
    "id": "C9okS_Gpx2TS"
   },
   "source": [
    "**Tunning Model**"
   ]
  },
  {
   "cell_type": "code",
   "execution_count": 0,
   "metadata": {
    "colab": {
     "base_uri": "https://localhost:8080/",
     "height": 307
    },
    "colab_type": "code",
    "id": "u3SzqV2Gx2TT",
    "outputId": "91a03c86-3541-4889-c633-984107bd5344"
   },
   "outputs": [
    {
     "name": "stdout",
     "output_type": "stream",
     "text": [
      "[0.6170171095453064, 0.7131426685889863, 0.7486354587274427, 0.7685081726558053, 0.7858409381345307, 0.8015879134999322, 0.8200634876867148, 0.83790503606379, 0.844761852517005, 0.8457144512624327, 0.8526351346731532]\n"
     ]
    },
    {
     "data": {
      "image/png": "[encoded data removed]",
      "text/plain": [
       "<Figure size 432x288 with 1 Axes>"
      ]
     },
     "metadata": {
      "tags": []
     },
     "output_type": "display_data"
    }
   ],
   "source": [
    "#K-fold cross validation should be used to tune the model\n",
    "from sklearn.model_selection import cross_val_score\n",
    "\n",
    "n = [1 ,5 ,10, 15, 20, 30, 50, 100, 150, 200, 500]\n",
    "val_results = []\n",
    "\n",
    "for i in n:\n",
    "    clf = RandomForestClassifier(n_estimators=i)\n",
    "    val_results.append(cross_val_score(clf, X_train, y_train,cv=3).mean())\n",
    "    \n",
    "plt.scatter(n, val_results)\n",
    "print(val_results)"
   ]
  },
  {
   "cell_type": "code",
   "execution_count": 0,
   "metadata": {
    "colab": {},
    "colab_type": "code",
    "id": "UsHqmRSqx2TV"
   },
   "outputs": [],
   "source": [
    "final_rfc = RandomForestClassifier(n_estimators=200)\n",
    "\n",
    "final_rfc.fit(X_train, y_train)\n",
    "final_predictions = final_rfc.predict(X_test)"
   ]
  },
  {
   "cell_type": "code",
   "execution_count": 0,
   "metadata": {
    "colab": {},
    "colab_type": "code",
    "id": "umKkh-Kkx2TX",
    "outputId": "81904001-e4d2-4e82-9cc8-e630cc67dc79"
   },
   "outputs": [
    {
     "name": "stdout",
     "output_type": "stream",
     "text": [
      "The accuracy score is: 0.8428148148148148\n",
      "The confusion matrix is: \n",
      " [[2797  571]\n",
      " [ 490 2892]]\n",
      "The classification report is: \n",
      "               precision    recall  f1-score   support\n",
      "\n",
      "           0       0.85      0.83      0.84      3368\n",
      "           1       0.84      0.86      0.84      3382\n",
      "\n",
      "   micro avg       0.84      0.84      0.84      6750\n",
      "   macro avg       0.84      0.84      0.84      6750\n",
      "weighted avg       0.84      0.84      0.84      6750\n",
      "\n"
     ]
    }
   ],
   "source": [
    "print('The accuracy score is:',accuracy_score(y_test,final_predictions))\n",
    "print('The confusion matrix is:','\\n',confusion_matrix(y_test,final_predictions))\n",
    "print('The classification report is:','\\n',classification_report(y_test,final_predictions))"
   ]
  },
  {
   "cell_type": "markdown",
   "metadata": {
    "colab_type": "text",
    "id": "XR8i6sm2x2TZ"
   },
   "source": [
    "### Gaussian Naive Bayes\n",
    "\n",
    "**Gaussian Naive Bayes** is a good classification for text. The asumption is that the features follow the Gaussian distribution (normal distribution). We do not achive good model because our data's features do not follow the Gaussian distribution."
   ]
  },
  {
   "cell_type": "code",
   "execution_count": 19,
   "metadata": {
    "colab": {},
    "colab_type": "code",
    "id": "GMHxnB1Zx2TZ",
    "outputId": "35bf081e-b69e-418e-86ba-d5c78a73c918"
   },
   "outputs": [
    {
     "name": "stdout",
     "output_type": "stream",
     "text": [
      "The accuracy score is: 0.8622222222222222\n",
      "The confusion matrix is: \n",
      " [[2953  455]\n",
      " [ 475 2867]]\n",
      "The classification report is: \n",
      "               precision    recall  f1-score   support\n",
      "\n",
      "           0       0.86      0.87      0.86      3408\n",
      "           1       0.86      0.86      0.86      3342\n",
      "\n",
      "   micro avg       0.86      0.86      0.86      6750\n",
      "   macro avg       0.86      0.86      0.86      6750\n",
      "weighted avg       0.86      0.86      0.86      6750\n",
      "\n"
     ]
    }
   ],
   "source": [
    "from sklearn.naive_bayes import GaussianNB, MultinomialNB\n",
    "\n",
    "gnb = MultinomialNB()\n",
    "\n",
    "gnb.fit(X_train, y_train)\n",
    "\n",
    "gnb_predictions = gnb.predict(X_test)\n",
    "\n",
    "print('The accuracy score is:',accuracy_score(y_test,gnb_predictions))\n",
    "print('The confusion matrix is:','\\n',confusion_matrix(y_test,gnb_predictions))\n",
    "print('The classification report is:','\\n',classification_report(y_test,gnb_predictions))"
   ]
  },
  {
   "cell_type": "code",
   "execution_count": 20,
   "metadata": {
    "colab": {},
    "colab_type": "code",
    "id": "Av3wvlcMx2Tb",
    "outputId": "04b71eb8-2df4-4fe7-8e12-46f2e30c4ef1"
   },
   "outputs": [
    {
     "name": "stdout",
     "output_type": "stream",
     "text": [
      "The accuracy score is: 0.6687407407407407\n",
      "The confusion matrix is: \n",
      " [[2567  841]\n",
      " [1395 1947]]\n",
      "The classification report is: \n",
      "               precision    recall  f1-score   support\n",
      "\n",
      "           0       0.65      0.75      0.70      3408\n",
      "           1       0.70      0.58      0.64      3342\n",
      "\n",
      "   micro avg       0.67      0.67      0.67      6750\n",
      "   macro avg       0.67      0.67      0.67      6750\n",
      "weighted avg       0.67      0.67      0.67      6750\n",
      "\n"
     ]
    }
   ],
   "source": [
    "from sklearn.naive_bayes import GaussianNB, MultinomialNB\n",
    "\n",
    "gnb = GaussianNB()\n",
    "\n",
    "gnb.fit(X_train.toarray(), y_train)\n",
    "\n",
    "gnb_predictions = gnb.predict(X_test.toarray())\n",
    "\n",
    "print('The accuracy score is:',accuracy_score(y_test,gnb_predictions))\n",
    "print('The confusion matrix is:','\\n',confusion_matrix(y_test,gnb_predictions))\n",
    "print('The classification report is:','\\n',classification_report(y_test,gnb_predictions))"
   ]
  },
  {
   "cell_type": "markdown",
   "metadata": {
    "colab_type": "text",
    "id": "qJSXRDQ7x2Td"
   },
   "source": [
    "### KNN (K Nearest Neighbors)"
   ]
  },
  {
   "cell_type": "code",
   "execution_count": 0,
   "metadata": {
    "colab": {},
    "colab_type": "code",
    "id": "ai7-dbVrx2Te"
   },
   "outputs": [],
   "source": [
    "from sklearn.neighbors import KNeighborsClassifier"
   ]
  },
  {
   "cell_type": "code",
   "execution_count": 0,
   "metadata": {
    "colab": {},
    "colab_type": "code",
    "id": "foQRO1C0x2Tf",
    "outputId": "dafc8760-02e2-42c9-c13c-37839452ceb1"
   },
   "outputs": [
    {
     "data": {
      "image/png": "[encoded data removed]",
      "text/plain": [
       "<Figure size 1080x504 with 1 Axes>"
      ]
     },
     "metadata": {
      "needs_background": "light",
      "tags": []
     },
     "output_type": "display_data"
    }
   ],
   "source": [
    "### Tuning using K-fold Cross Validation\n",
    "\n",
    "from sklearn.model_selection import cross_val_score\n",
    "\n",
    "val_error_rate = []\n",
    "neighbors_range = range(1,500,5)\n",
    "\n",
    "for i in neighbors_range:\n",
    "    \n",
    "    knn = KNeighborsClassifier(n_neighbors=i)\n",
    "    \n",
    "    val_error = 1 - cross_val_score(knn, X_train, y_train,cv=5).mean()\n",
    "    val_error_rate.append(val_error)\n",
    "\n",
    "# Plot settings\n",
    "plt.figure(figsize=(15,7))\n",
    "plt.plot(neighbors_range, val_error_rate, color='orange', linestyle='dashed', marker='o',\n",
    "         markerfacecolor='black', markersize=5, label='Validation Error')\n",
    "plt.xticks(np.arange(neighbors_range.start, neighbors_range.stop, neighbors_range.step), rotation=60)\n",
    "plt.grid()\n",
    "plt.legend()\n",
    "plt.title('Validation Error vs. K Value')\n",
    "plt.xlabel('K')\n",
    "plt.ylabel('Validation Error')\n",
    "plt.show()"
   ]
  },
  {
   "cell_type": "code",
   "execution_count": 0,
   "metadata": {
    "colab": {},
    "colab_type": "code",
    "id": "qdvBp-NCx2Ti",
    "outputId": "70f9a0d9-5ee5-4076-9589-93ad9e049325"
   },
   "outputs": [
    {
     "data": {
      "text/plain": [
       "71"
      ]
     },
     "execution_count": 10,
     "metadata": {
      "tags": []
     },
     "output_type": "execute_result"
    }
   ],
   "source": [
    "best_k = neighbors_range[val_error_rate.index(min(val_error_rate))]\n",
    "best_k"
   ]
  },
  {
   "cell_type": "code",
   "execution_count": 0,
   "metadata": {
    "colab": {},
    "colab_type": "code",
    "id": "5qyCcpKgx2Tm",
    "outputId": "04c5d0aa-b38b-444c-91dc-f66386f9c73c"
   },
   "outputs": [
    {
     "name": "stdout",
     "output_type": "stream",
     "text": [
      "The accuracy score is: 0.8065185185185185\n",
      "The classification report is: \n",
      "               precision    recall  f1-score   support\n",
      "\n",
      "           0       0.81      0.80      0.81      3384\n",
      "           1       0.80      0.81      0.81      3366\n",
      "\n",
      "   micro avg       0.81      0.81      0.81      6750\n",
      "   macro avg       0.81      0.81      0.81      6750\n",
      "weighted avg       0.81      0.81      0.81      6750\n",
      "\n"
     ]
    },
    {
     "data": {
      "text/plain": [
       "<matplotlib.axes._subplots.AxesSubplot at 0x7ffa8e74e940>"
      ]
     },
     "execution_count": 13,
     "metadata": {
      "tags": []
     },
     "output_type": "execute_result"
    },
    {
     "data": {
      "image/png": "[encoded data removed]",
      "text/plain": [
       "<Figure size 360x288 with 2 Axes>"
      ]
     },
     "metadata": {
      "needs_background": "light",
      "tags": []
     },
     "output_type": "display_data"
    }
   ],
   "source": [
    "from sklearn.metrics import accuracy_score, confusion_matrix, classification_report\n",
    "knn = KNeighborsClassifier(n_neighbors=best_k)\n",
    "knn.fit(X_train, y_train)\n",
    "knn_predictions = knn.predict(X_test)\n",
    "\n",
    "print('The accuracy score is:',accuracy_score(y_test,knn_predictions))\n",
    "print('The classification report is:','\\n',classification_report(y_test,knn_predictions))\n",
    "\n",
    "matrix=confusion_matrix(y_test,knn_predictions)\n",
    "plt.figure(figsize = (5,4))\n",
    "sns.heatmap(matrix, annot=True, fmt = '.2f')"
   ]
  },
  {
   "cell_type": "markdown",
   "metadata": {
    "colab_type": "text",
    "id": "lKqLzsj0x2To"
   },
   "source": [
    "### SVM (Support Vector Machine)"
   ]
  },
  {
   "cell_type": "code",
   "execution_count": 21,
   "metadata": {
    "colab": {},
    "colab_type": "code",
    "id": "miY-NpCMx2Tp"
   },
   "outputs": [],
   "source": [
    "from sklearn.svm import SVC"
   ]
  },
  {
   "cell_type": "code",
   "execution_count": 0,
   "metadata": {
    "colab": {
     "base_uri": "https://localhost:8080/",
     "height": 490
    },
    "colab_type": "code",
    "id": "VCPl9cq4x2Tr",
    "outputId": "9fd80cb7-0887-4b80-81e0-436af4ecbe32"
   },
   "outputs": [
    {
     "data": {
      "image/png": "[encoded data removed]",
      "text/plain": [
       "<Figure size 1080x504 with 1 Axes>"
      ]
     },
     "metadata": {
      "tags": []
     },
     "output_type": "display_data"
    }
   ],
   "source": [
    "from sklearn.model_selection import cross_val_score\n",
    "\n",
    "val_rate = []\n",
    "c_range =  range(1,200,20)\n",
    "\n",
    "for i in c_range:\n",
    "    \n",
    "    svm = SVC(C=i, kernel='linear')\n",
    "    \n",
    "    val_error = 1 - cross_val_score(svm, X_train, y_train,cv=5).mean()\n",
    "    val_rate.append(val_error)\n",
    "\n",
    "\n",
    "# Plot settings\n",
    "plt.figure(figsize=(15,7))\n",
    "plt.plot(c_range, val_rate, color='orange', linestyle='dashed', marker='o',\n",
    "         markerfacecolor='black', markersize=5, label='Validation Error')\n",
    "\n",
    "plt.xticks(np.arange(c_range.start, c_range.stop, c_range.step), rotation=60)\n",
    "plt.grid()\n",
    "plt.legend()\n",
    "plt.title('Validation Error vs. C Value')\n",
    "plt.xlabel('C')\n",
    "plt.ylabel('Validation Error')\n",
    "plt.show()"
   ]
  },
  {
   "cell_type": "code",
   "execution_count": 0,
   "metadata": {
    "colab": {},
    "colab_type": "code",
    "id": "ikj7KNqux2Tt"
   },
   "outputs": [],
   "source": [
    "best_c = c_range[val_rate.index(min(val_rate))]\n",
    "best_c"
   ]
  },
  {
   "cell_type": "markdown",
   "metadata": {},
   "source": [
    "**Perform SVM with C = 1 and C = 3**"
   ]
  },
  {
   "cell_type": "code",
   "execution_count": 22,
   "metadata": {
    "colab": {},
    "colab_type": "code",
    "id": "I3eFTqQQtnfZ"
   },
   "outputs": [],
   "source": [
    "svm = SVC(kernel='linear',C=1).fit(X_train, y_train)"
   ]
  },
  {
   "cell_type": "code",
   "execution_count": 23,
   "metadata": {
    "colab": {},
    "colab_type": "code",
    "id": "PCFrS5KYHMe0"
   },
   "outputs": [
    {
     "data": {
      "text/plain": [
       "SVC(C=1, cache_size=200, class_weight=None, coef0=0.0,\n",
       "  decision_function_shape='ovr', degree=3, gamma='auto_deprecated',\n",
       "  kernel='linear', max_iter=-1, probability=False, random_state=None,\n",
       "  shrinking=True, tol=0.001, verbose=False)"
      ]
     },
     "execution_count": 23,
     "metadata": {},
     "output_type": "execute_result"
    }
   ],
   "source": [
    "svm.fit(X_train, y_train)"
   ]
  },
  {
   "cell_type": "code",
   "execution_count": 24,
   "metadata": {
    "colab": {},
    "colab_type": "code",
    "id": "5rkrrhdPHMaB"
   },
   "outputs": [],
   "source": [
    "pred = svm.predict(X_test)"
   ]
  },
  {
   "cell_type": "code",
   "execution_count": 25,
   "metadata": {
    "colab": {},
    "colab_type": "code",
    "id": "Q0r7FMbRHMW2"
   },
   "outputs": [
    {
     "name": "stdout",
     "output_type": "stream",
     "text": [
      "The accuracy score is: 0.8814814814814815\n",
      "The confusion matrix is: \n",
      " [[2965  443]\n",
      " [ 357 2985]]\n",
      "The classification report is: \n",
      "               precision    recall  f1-score   support\n",
      "\n",
      "           0       0.89      0.87      0.88      3408\n",
      "           1       0.87      0.89      0.88      3342\n",
      "\n",
      "   micro avg       0.88      0.88      0.88      6750\n",
      "   macro avg       0.88      0.88      0.88      6750\n",
      "weighted avg       0.88      0.88      0.88      6750\n",
      "\n"
     ]
    }
   ],
   "source": [
    "print('The accuracy score is:',accuracy_score(y_test, pred))\n",
    "print('The confusion matrix is:','\\n',confusion_matrix(y_test, pred))\n",
    "print('The classification report is:','\\n',classification_report(y_test, pred))"
   ]
  },
  {
   "cell_type": "code",
   "execution_count": 26,
   "metadata": {
    "colab": {},
    "colab_type": "code",
    "id": "eiDkP_N5ugpx"
   },
   "outputs": [],
   "source": [
    "svm = SVC(kernel='linear',C=3).fit(X_train, y_train)"
   ]
  },
  {
   "cell_type": "code",
   "execution_count": 27,
   "metadata": {
    "colab": {},
    "colab_type": "code",
    "id": "_wczKIqLHY_H"
   },
   "outputs": [
    {
     "data": {
      "text/plain": [
       "SVC(C=3, cache_size=200, class_weight=None, coef0=0.0,\n",
       "  decision_function_shape='ovr', degree=3, gamma='auto_deprecated',\n",
       "  kernel='linear', max_iter=-1, probability=False, random_state=None,\n",
       "  shrinking=True, tol=0.001, verbose=False)"
      ]
     },
     "execution_count": 27,
     "metadata": {},
     "output_type": "execute_result"
    }
   ],
   "source": [
    "svm.fit(X_train, y_train)"
   ]
  },
  {
   "cell_type": "code",
   "execution_count": 28,
   "metadata": {
    "colab": {},
    "colab_type": "code",
    "id": "8x5zQ15vHY9A"
   },
   "outputs": [],
   "source": [
    "pred = svm.predict(X_test)"
   ]
  },
  {
   "cell_type": "code",
   "execution_count": 29,
   "metadata": {
    "colab": {},
    "colab_type": "code",
    "id": "MGeWz3YLHY7A"
   },
   "outputs": [
    {
     "name": "stdout",
     "output_type": "stream",
     "text": [
      "The accuracy score is: 0.8765925925925926\n",
      "The confusion matrix is: \n",
      " [[2970  438]\n",
      " [ 395 2947]]\n",
      "The classification report is: \n",
      "               precision    recall  f1-score   support\n",
      "\n",
      "           0       0.88      0.87      0.88      3408\n",
      "           1       0.87      0.88      0.88      3342\n",
      "\n",
      "   micro avg       0.88      0.88      0.88      6750\n",
      "   macro avg       0.88      0.88      0.88      6750\n",
      "weighted avg       0.88      0.88      0.88      6750\n",
      "\n"
     ]
    }
   ],
   "source": [
    "print('The accuracy score is:',accuracy_score(y_test, pred))\n",
    "print('The confusion matrix is:','\\n',confusion_matrix(y_test, pred))\n",
    "print('The classification report is:','\\n',classification_report(y_test, pred))"
   ]
  },
  {
   "cell_type": "markdown",
   "metadata": {
    "colab_type": "text",
    "id": "3hUzvCx5x2Tz"
   },
   "source": [
    "## Step 4: Performing Features Selection\n",
    "### Selecting features by Chi2"
   ]
  },
  {
   "cell_type": "code",
   "execution_count": 30,
   "metadata": {
    "colab": {},
    "colab_type": "code",
    "id": "4QF2-OhHx2Tz"
   },
   "outputs": [
    {
     "name": "stdout",
     "output_type": "stream",
     "text": [
      "The accuracy score is: 0.7644444444444445\n",
      "The confusion matrix is: \n",
      " [[2591  817]\n",
      " [ 773 2569]]\n",
      "The classification report is: \n",
      "               precision    recall  f1-score   support\n",
      "\n",
      "           0       0.77      0.76      0.77      3408\n",
      "           1       0.76      0.77      0.76      3342\n",
      "\n",
      "   micro avg       0.76      0.76      0.76      6750\n",
      "   macro avg       0.76      0.76      0.76      6750\n",
      "weighted avg       0.76      0.76      0.76      6750\n",
      "\n"
     ]
    }
   ],
   "source": [
    "from sklearn.feature_selection import SelectKBest\n",
    "from sklearn.feature_selection import chi2\n",
    "\n",
    "from sklearn.feature_selection import VarianceThreshold\n",
    "\n",
    "# Reshape X_train, X_test by fit_transform\n",
    "X_new_train = SelectKBest(chi2, k=45000).fit_transform(X_train, y_train)\n",
    "X_new_test = SelectKBest(chi2, k=45000).fit_transform(X_test, y_test)\n",
    "\n",
    "# Build Logistic Regression Model and check accuracy\n",
    "clf.fit(X_new_train, y_train)\n",
    "\n",
    "new_predictions = clf.predict(X_new_test)\n",
    "\n",
    "print('The accuracy score is:',accuracy_score(y_test,new_predictions))\n",
    "print('The confusion matrix is:','\\n',confusion_matrix(y_test,new_predictions))\n",
    "print('The classification report is:','\\n',classification_report(y_test,new_predictions))\n"
   ]
  },
  {
   "cell_type": "markdown",
   "metadata": {
    "colab_type": "text",
    "id": "DQ00A_x6vd_q"
   },
   "source": [
    "We tried to perform Features Selection for the dataset, however, this step doesn't improve the accuracy because it can accidently remove important words\n",
    "\n",
    "### Manually selecting features\n",
    "We investigate which words negatively affected the accuracy and add those words to the `stop words`"
   ]
  },
  {
   "cell_type": "code",
   "execution_count": 0,
   "metadata": {
    "colab": {},
    "colab_type": "code",
    "id": "jTl6v6jvvzL8"
   },
   "outputs": [],
   "source": [
    "my_additional_stop_words = []\n",
    "\n",
    "stop = text.ENGLISH_STOP_WORDS.union(my_additional_stop_words)\n",
    "\n",
    "import nltk\n",
    "\n",
    "# Add tag to word inside the vectorized dictionary\n",
    "Pos_tag = nltk.pos_tag(tfidf.vocabulary_.keys())\n",
    "\n",
    "# Create dataframe of words and words's tags\n",
    "word_bag = pd.DataFrame(Pos_tag, columns = ['Word' , 'Type'])\n",
    "\n",
    "# We focus on word with tag NN (Nouns)\n",
    "NN_list = word_bag['Word'][word_bag['Type']=='NN'].tolist()\n",
    "\n",
    "remove_word = []\n",
    "X = data['review']\n",
    "y = data['sentiment']\n",
    "\n",
    "for word in NN_list:\n",
    "    my_additional_stop_words.append(word)\n",
    "    stop = text.ENGLISH_STOP_WORDS.union(my_additional_stop_words)\n",
    "    \n",
    "    tfidf = TfidfVectorizer(stop_words=stop,\n",
    "                            tokenizer=tokenizer_porter,\n",
    "                            preprocessor=preprocessor)\n",
    "\n",
    "    X_tfidf = tfidf.fit_transform(X)\n",
    "\n",
    "    X_train, X_test, y_train, y_test = train_test_split(X_tfidf, y, test_size=0.3,random_state = 101) \n",
    "    \n",
    "    # Build logistic Regression Model\n",
    "    clf = LogisticRegression()\n",
    "    clf.fit(X_train, y_train)\n",
    "    predictions = clf.predict(X_test)\n",
    "    \n",
    "    # Check if the accuracy of the model improved after removing the word\n",
    "    # The accuracy of model is 0.884 for random_state = 101\n",
    "    if accuracy_score(y_test,predictions) < 0.884:\n",
    "        remove_word.append(word)\n",
    "        print(word)\n",
    "        my_additional_stop_words = []\n",
    "    else:\n",
    "        my_additional_stop_words = []"
   ]
  },
  {
   "cell_type": "markdown",
   "metadata": {
    "colab_type": "text",
    "id": "ZozcE17M39D2"
   },
   "source": [
    "After that step, we get the list of words that can be removed in order to improve the accuracy of Logistic Regression Model.\n",
    "\n",
    "\n",
    "\n",
    "## Step 5: Improving Model by adding more stop words\n",
    "\n",
    "### Logistic Regression Model"
   ]
  },
  {
   "cell_type": "code",
   "execution_count": 44,
   "metadata": {
    "colab": {},
    "colab_type": "code",
    "id": "q9IV3vKb4L2M"
   },
   "outputs": [],
   "source": [
    "my_additional_stop_words = ['addit','agent','agre','amateur','ambit','anim','area','ate','attack','attent',\n",
    "                            'averag','babe','baffl','bare','barrel','base','batonzilla','battl','bayreuth',\n",
    "                            'bc','beast','beatnik','bell','biographi','bisexu','bit','blood','bloodi','bo',\n",
    "                            'book','buddi','camilla','car','carnivor','carradin','chainsaw','charact','chill',\n",
    "                            'cinema','cliff','comput','conduct','conductor','consent','continu','crocus',\n",
    "                            'cruis','cruso','danger','dangl','deadli','deadlier','deal','deliv','dna','dodg',\n",
    "                            'doesn','don','door','doubl','drama','drug','dub','dude','dure','e','earth',\n",
    "                            'effect','element','endur','enter','escap','everyon','excit','exclud','expedi',\n",
    "                            'exposur','fact','fare','fashion','fatigu','fearsom','featur','fenc','fight',\n",
    "                            'fist','flaccid','follow','food','genit','georg','giant','girl','glare','grace',\n",
    "                            'gratuit','guilti','gurnemanz','h','haiduk','half','harrow','heard','hickox',\n",
    "                            'hine','histor','hmmm','hollywood','hooray','hope','howev','idea','imagin',\n",
    "                            'impati','integr','investor','iron','jackson','jame','joe','john','jordan',\n",
    "                            'jurassik','justif','keith','knappertsbusch','lack','larg','laughter','length',\n",
    "                            'lord','lot','lousi','lugubri','lush','manag','mani','match','mate','mayb',\n",
    "                            'mention','michael','middl','miller','moment','monsalvat','moonwalk','motion',\n",
    "                            'mr','mutat','nichola','occasion','opera','orchestr','overheard','overlook',\n",
    "                            'pack','paralyt','park','parkă','parsif','pastur','perceiv','perform','pesci',\n",
    "                            'piec','plan','planet','player','possess','power','prais','predat','prey',\n",
    "                            'primal','project','quit','rais','react','record','recreat','relationship',\n",
    "                            'rememb','remot','represent','resembl','result','rhi','rip','robert','robinson',\n",
    "                            'roland','roxann','s','sabretooth','saint','scene','scientist','seriou','sever',\n",
    "                            'shortcom','sibl','singer','slightli','smilodon','someon','speed','splice','staci',\n",
    "                            'stage','stalk','star','stare','stir','strait','studio','superbl','swan',\n",
    "                            'syberberg','talent','tempi','terrifyingli','themselv','thi','tiger','timothi',\n",
    "                            'towel','transcend','transmut','trashi','tricksi','trumpet','turf','vanessa',\n",
    "                            'version','victim','vigor','violent','visitor','voic','voltag','wall','war',\n",
    "                            'watch','way','wholesom','wimmer','wiz','work','world','youngster','slaughter',\n",
    "                            'mommi','daddi','friendli','smuggler','custodi','train','expert','lift',\n",
    "                            'valuabl','diamond','coincident','life','littl','fun','time','beat','whatev',\n",
    "                            'violenc','magnific','grotesqu','20','2002', '10', '000', '2006', '1951', '80', \n",
    "                            '4', '5', '1', '50', '3000', '1980', \n",
    "                            '1983', '3', '1978', '70', '2022', '7', '1939', '1880', '1985', '0', '89', '1986',\n",
    "                            'zuniga', '15', '600', '93', '300', '9', '95', '29', '75', '1933', '87', '2000', \n",
    "                            '17', '166', '6', '30', '8', '60', '2007',  '45', \n",
    "                            '147', '145', '90', '1968', '1960', '1930', '1988', '2004', '1938', '2', '1996', \n",
    "                            '101', '40', '3d', '2d', '1957', '100', '1950', '1600', '14', '88', 'seven', '117',\n",
    "                            'zone', '11', '1958', '1959', '1991', '1976', '19th', '1800', '1998', '1999', '99',\n",
    "                            '747', '16', '71', '21st', '1970', '2038', '18', '64', '34', '79', '1965',\n",
    "                            '1973', '1961', '1992', '1984', '35', '12', '1969', '42nd', '007', '2005', '1935',\n",
    "                            '1st', '1934', '1936', '1937', '25yo', '41', '27', '25', '65m', '04', '112', \n",
    "                            '18th', '1971', '1994', '1990', '1944', \n",
    "                            '1974', '1972', '28', '1982', '2008', '77', '26', '48', 'zurich', '1997', '2017', \n",
    "                            '110', '2046', '36', '5000', '1989', '1931', '1977', '1979', '1993', '950', '108',\n",
    "                            '272', '273', '1941', '7ã', '1948', '14th', '24', '3rd', '4th', '200', '1975', \n",
    "                            '2009', '51', '201', '9000', '1995', '92nd', '1907', '1924', '120', '00', '39', \n",
    "                            '92', '750', '6th', '103', '400', '1000', '660', '1830', '03', '09', '1945', '4f',\n",
    "                            '241', 'zippo', '1956', '1981', '82', '85', '1ã', '01', '150', '97', '666', '2001',\n",
    "                            '1954', '49', '90min', '7day', '1sound', '84', '16ã', '1928', '5539', '1942', \n",
    "                            '1886', '1895', '249', '275', '222', '999', '001', '100yard', '1943', '1940', \n",
    "                            '42', '4o', '2035', '22', '1963', '15th', '800', '83', '1920', '1966', '74', \n",
    "                            '12m', '1967', '35mm', '70mm', '1914', '1946', '8th', '54', '76', '2010', '23', \n",
    "                            '1962', '2nd', '14ai', '106min', '78', '1500', '4h', '138', '8mm', '1898', '850', \n",
    "                            '1050', '1947', '109', '1955', '1949', '1953', '250', '104', '33', '1919', '2003',\n",
    "                            '56', '07', '163', '700', '1832', '37', '1200', '25th', '94', '7th', '360',\n",
    "                            '4000', '52', '2006parsif', '24year', '225min', '330min', '849', '2040', '5th', \n",
    "                            '94th', '00pm', '08', '06', '00015', '10mi', '21', '225', '10rate', '12th', \n",
    "                            '1952', '8ã', '1904', '2019', '72nd', '111', '6k', '4k', '2k', '28th', '106', \n",
    "                            '102', '102nd', '713', '1926', '157', '86', '47', '46', '59', '66', '3k', '1881',\n",
    "                            '1300', '9th', '02', '1910', '500', '65', '1918', '1865', '1932', '170', '98', \n",
    "                            '1922', '17th', '27th', '73', '1876', '55', '107', '911', '5ã', '4ã', '3ã', '2ã',\n",
    "                            '50ã', '1874', '19', '16mm', '1909', '68', '1900', '180', '11th', '139', '2am', \n",
    "                            '1987', '15minut', '25min', '500lb', '90210', '1840', '135', '31', '58', '74th', \n",
    "                            '05', '53', '2036', 'zabriski', '10pm', '8p', '1692', '1929', '70i', '44', '1925',\n",
    "                            '1912', '40th', '7ft', '1454', '300mln', '1408', 'orland', '45am', '14a', '1hr',\n",
    "                            'zhi', '96', '25million', '1864', '16x9', '105', '128', '041', '35th', '480p', \n",
    "                            '84f', '8u', '11f', 'msft3000', '2500', '43', '67', '63', '12383499143743701', \n",
    "                            '4am', '9pm', '38th', '2hr', '2480', '2400', '1915', '34th', '357', '32', '2020', \n",
    "                            '4kid', '2600', '5x5', '1000lb', '469', '3am', '1hour', '69', '1700', '1870', \n",
    "                            '60ti', '2007ã', '183', '1988ã', '116', '14afear', '88min', '1200f', '16th',\n",
    "                            '1836', '20yr', '1794', '140', '5hr', '1927', '3x5', '2210', '31st', '10mil',\n",
    "                            '1805', '38', '7mm', '1873', '618', '502', '1964', '80yr', '637', '1850', '1853', \n",
    "                            '91', '1917', '29th', '204', '475', '130', '160', '149', '72', '7ish', '8k', \n",
    "                            '270', '10p', '607', '100th', '500db', '90ish', '1862', '10voluntarili', '1492',\n",
    "                            '100mph', '900', '1894', '10yr', '262', 'zebbedi', '9am', '131', '5yo', '58th',\n",
    "                            '75054', '320x180', '737', '1890', '1887', '132', '50th', '707', '1970i', '60i', \n",
    "                            '80i', '48hr', '576', 'zukor', '1921', '345', '51st', '1903', '1916', '20minut', \n",
    "                            '1905', '1138', '38k', '19796', '192', '125m', '740il', '10line', '3a', '62', \n",
    "                            '100x', '1863', '20m', '30k', '2090', '66er', '2hour', '10www', '30min', '1775', \n",
    "                            '171', '230lb', '160lb', '105lb', '70th', '2031', '23rd', '10eliason', '10th', \n",
    "                            '61', '278', '401k', '1896', '1899', '18137', '100m', '81', '168', '1888', '350', \n",
    "                            '236', '101st', '372', '220', '6b', '99p', '137', '16iem', '69th', '1h30', \n",
    "                            '250000', '237', '21849890', '2012', \n",
    "                            '00am', '3yr', '285', '356', '1p', '20001', '53m', '57', '510', '511', '512', \n",
    "                            '513', '1846', '79th', '1100ad', '1913', '30someth', '95th', '029', '087', '477',\n",
    "                            '9mm', '2013', '99ã', '55th', '15ã', '2200', '1415', '1s', '1318', '10the', \n",
    "                            '10hulkamaniac', '24th', '1816', '2257', '19k', '1h40m', '1100', '2000sdri', \n",
    "                            '1d', '22d', '23d', '1809', '1837', '1902', '274', '1824', '006', '10fifth', \n",
    "                            '10sixth', '2008veri', '197', '98minut', '5yr', '10peac', '4rove', '99cent', \n",
    "                            '125', '10i', '114', '210', '1854', '1855', '1838', '1800mph', '20000', '177', \n",
    "                            '598947', '127', '2pac', '7eventi', '5ive', '740', '50min', '10min', '6pm', \n",
    "                            '1906', '214', '1984ish', '1930sstereotyp', '30lb', '1860', '2050', '10qualiti', \n",
    "                            '3012', '788', '1tv', '571', '6000', '26th', '1850i', '003830', '498', '5200', \n",
    "                            '6723', '22101', '02i', '9999', '240', '35yr', '40min', '1594', '5million', \n",
    "                            '336th', '12a', '2x4', '5x', '30am', '18aeddi', '10x', '00001', '4x', '45min', \n",
    "                            '2i', '1798', '1911', '451', '1701', '01pm', '146', '0f', \n",
    "                            '1892', '1897', '100min', '2047', '4d', '465', '905', '10molli', '22nd', \n",
    "                            '332960073452', '1861', '300ad', '819', '20k', '1820', '3462', '1202', '1201',\n",
    "                            '123', '18a', '1a',  '974th', '60th', '1901', '735', '209', '21699',\n",
    "                            '221', '0079', 'zaku', '0080', '0083', '500ad', '914', '2080', '2070', '1h53', \n",
    "                            '269', '4m', '4w', '175', '158', '18ai', '10minut', '6200', '39th', '2054', \n",
    "                            '9484', '3516', '13k', '917', '50ft', '20ft', '206', '2h', '2015', '90c', '44c', \n",
    "                            '75c', '35c', '50c', '242', '3b', '701', '10wwe', '10santa', '3p', '36th', \n",
    "                            '1790', '62229249', '10segment', '10thi', '1812', '7now', '20min', '135m', \n",
    "                            '440', '4ward', '3th', '9s', '3po', '33m', '8700', '30pm', '5250', '50i', \n",
    "                            '4500', '7300', '3500', '57d', '1o', '3who', '405', '1949er', '300lb', '54th', \n",
    "                            '06th', '1852', '6ft', '2in', '500000', '10jame', '67th', '134', '5s', '92f', \n",
    "                            '6hour', '1h40', '142', '1980i', '1am', '10si', '08th', '4pm', '280','2023', \n",
    "                            '22h45', '1814', '5min', '215', '20year', '4cylind', '140hp', '40mph', '10not', \n",
    "                            '60ã', '11001001', '100b', '115', '150m', '20s1st', '2003i', '32nd', '3199', \n",
    "                            '3dvd', '20perr', '20widow', '49th', '80min', '3lb', '5year', '817', '937', \n",
    "                            '10could', '195', '8pm', '1908', '1847', '2053', '978', '19thc', '4x4', '68th', \n",
    "                            '40am', '100k', '223', '35ã', '1040', '1040a', '9of10', '1934earl', '454', \n",
    "                            '80ish', '2more', '59th', '70ã', '1889', '232', '231', '233', '14ã', '1920i', \n",
    "                            '1930i', '1871', '1780', '2s', '60ish', '608', '50k', '8bit', '2001thi', '089', \n",
    "                            '1561', '156', '14iem', '365', '136', '0ne', '8ftdf', '15min', '2030', '1473', \n",
    "                            '1813', '12mm', '8763', '529', '10guinea', '1875', '10ã', '425', '8000', '35min',\n",
    "                            '9er', '330am', '63rd', '4eva', '2044', '60mph', '1h', '1839', '020410',\n",
    "                            '1000000', '89or', '6yo', '50usd', '2000ad', '6ey', '987', '1ton', '5kph', \n",
    "                            '1923', '12hr', '99the', '540i', '921', '370', '150k', '1947ã', '12ã', '850pm',\n",
    "                            '428', '10am', '395', '303', '10a', '578i', '153', '1859', '1547', '17it', \n",
    "                            '7even', '2000ã', '200th', '16k', '555', '10fan', '1million', '35pm', '1146', \n",
    "                            '2033', '6wk', '44yr', '17million', '878', '1mln', '190', '185', 'zamprogna', \n",
    "                            '9it', '32lb', '75m', '2100', '70m', '20c', '20ti', '30ti', '6am', '152', \n",
    "                            '24m30', '2060', '0r', '227', '998', '480m', '20mn', '169', '1660', '2h30', \n",
    "                            '188', '11m', '2642', 'yappi', '970', '450', '194', '230mph', '820', '155', \n",
    "                            '14yr', '420', '51b', '20p', '2point4', '2772', '164', '378', '50ish', '1801', \n",
    "                            '1844', '1001']\n",
    "\n",
    "stop = text.ENGLISH_STOP_WORDS.union(my_additional_stop_words)"
   ]
  },
  {
   "cell_type": "code",
   "execution_count": 45,
   "metadata": {
    "colab": {},
    "colab_type": "code",
    "id": "MwQttBcq41gC"
   },
   "outputs": [],
   "source": [
    "from sklearn.feature_extraction.text import TfidfVectorizer\n",
    "from sklearn.model_selection import train_test_split\n",
    "\n",
    "X = data['review']\n",
    "y = data['sentiment']\n",
    "\n",
    "tfidf = TfidfVectorizer(stop_words=stop,\n",
    "                        tokenizer=tokenizer_porter,\n",
    "                        preprocessor=preprocessor)\n",
    "\n",
    "X_tfidf = tfidf.fit_transform(X)\n",
    "\n",
    "# split the dataset in train and test\n",
    "X_train, X_test, y_train, y_test = train_test_split(X_tfidf, y, test_size=0.3, random_state=101)"
   ]
  },
  {
   "cell_type": "code",
   "execution_count": 46,
   "metadata": {
    "colab": {},
    "colab_type": "code",
    "id": "EgqcEoGFAzg9"
   },
   "outputs": [
    {
     "data": {
      "text/plain": [
       "LogisticRegression(C=1.0, class_weight=None, dual=False, fit_intercept=True,\n",
       "          intercept_scaling=1, max_iter=100, multi_class='warn',\n",
       "          n_jobs=None, penalty='l2', random_state=None, solver='warn',\n",
       "          tol=0.0001, verbose=0, warm_start=False)"
      ]
     },
     "execution_count": 46,
     "metadata": {},
     "output_type": "execute_result"
    }
   ],
   "source": [
    "from sklearn.linear_model import LogisticRegression\n",
    "\n",
    "clf = LogisticRegression()\n",
    "\n",
    "clf.fit(X_train, y_train)"
   ]
  },
  {
   "cell_type": "code",
   "execution_count": 47,
   "metadata": {
    "colab": {},
    "colab_type": "code",
    "id": "k7vIbzU_BENz"
   },
   "outputs": [
    {
     "name": "stdout",
     "output_type": "stream",
     "text": [
      "The accuracy score is: 0.8810370370370371\n",
      "The confusion matrix is: \n",
      " [[2923  485]\n",
      " [ 318 3024]]\n",
      "The classification report is: \n",
      "               precision    recall  f1-score   support\n",
      "\n",
      "           0       0.90      0.86      0.88      3408\n",
      "           1       0.86      0.90      0.88      3342\n",
      "\n",
      "   micro avg       0.88      0.88      0.88      6750\n",
      "   macro avg       0.88      0.88      0.88      6750\n",
      "weighted avg       0.88      0.88      0.88      6750\n",
      "\n"
     ]
    }
   ],
   "source": [
    "from sklearn.metrics import accuracy_score, confusion_matrix, classification_report\n",
    "\n",
    "predictions = clf.predict(X_test)\n",
    "\n",
    "print('The accuracy score is:',accuracy_score(y_test,predictions))\n",
    "print('The confusion matrix is:','\\n',confusion_matrix(y_test,predictions))\n",
    "print('The classification report is:','\\n',classification_report(y_test,predictions))"
   ]
  },
  {
   "cell_type": "markdown",
   "metadata": {
    "colab_type": "text",
    "id": "RQPYPj5YDNXw"
   },
   "source": [
    "### Save the Optimized Model\n"
   ]
  },
  {
   "cell_type": "code",
   "execution_count": null,
   "metadata": {
    "colab": {},
    "colab_type": "code",
    "id": "GMNYhYjxDSj8"
   },
   "outputs": [],
   "source": [
    "import pickle\n",
    "import os\n",
    "\n",
    "pickle.dump(clf, open(os.path.joinoin('data', 'logisticRegression_week4.pkl'), 'wb'), protocol=4)"
   ]
  },
  {
   "cell_type": "markdown",
   "metadata": {
    "colab_type": "text",
    "id": "q8OuqwrH42VF"
   },
   "source": [
    "## Step 6: Use optimized Model to predict Unlabeled data"
   ]
  },
  {
   "cell_type": "code",
   "execution_count": 66,
   "metadata": {
    "colab": {},
    "colab_type": "code",
    "id": "j9QqmEl39g28"
   },
   "outputs": [
    {
     "data": {
      "text/html": [
       "<div>\n",
       "<style scoped>\n",
       "    .dataframe tbody tr th:only-of-type {\n",
       "        vertical-align: middle;\n",
       "    }\n",
       "\n",
       "    .dataframe tbody tr th {\n",
       "        vertical-align: top;\n",
       "    }\n",
       "\n",
       "    .dataframe thead th {\n",
       "        text-align: right;\n",
       "    }\n",
       "</style>\n",
       "<table border=\"1\" class=\"dataframe\">\n",
       "  <thead>\n",
       "    <tr style=\"text-align: right;\">\n",
       "      <th></th>\n",
       "      <th>id</th>\n",
       "      <th>review</th>\n",
       "    </tr>\n",
       "  </thead>\n",
       "  <tbody>\n",
       "    <tr>\n",
       "      <th>0</th>\n",
       "      <td>10633_1</td>\n",
       "      <td>I watched this video at a friend's house. I'm ...</td>\n",
       "    </tr>\n",
       "    <tr>\n",
       "      <th>1</th>\n",
       "      <td>4489_1</td>\n",
       "      <td>`The Matrix' was an exciting summer blockbuste...</td>\n",
       "    </tr>\n",
       "    <tr>\n",
       "      <th>2</th>\n",
       "      <td>3304_10</td>\n",
       "      <td>This movie is one among the very few Indian mo...</td>\n",
       "    </tr>\n",
       "    <tr>\n",
       "      <th>3</th>\n",
       "      <td>3350_3</td>\n",
       "      <td>The script for this movie was probably found i...</td>\n",
       "    </tr>\n",
       "    <tr>\n",
       "      <th>4</th>\n",
       "      <td>1119_1</td>\n",
       "      <td>Even if this film was allegedly a joke in resp...</td>\n",
       "    </tr>\n",
       "    <tr>\n",
       "      <th>5</th>\n",
       "      <td>6827_4</td>\n",
       "      <td>Dumb is as dumb does, in this thoroughly unint...</td>\n",
       "    </tr>\n",
       "    <tr>\n",
       "      <th>6</th>\n",
       "      <td>9788_9</td>\n",
       "      <td>I was at the same screenwriters conference and...</td>\n",
       "    </tr>\n",
       "    <tr>\n",
       "      <th>7</th>\n",
       "      <td>2395_7</td>\n",
       "      <td>Though it had the misfortune to hit the festiv...</td>\n",
       "    </tr>\n",
       "    <tr>\n",
       "      <th>8</th>\n",
       "      <td>1782_4</td>\n",
       "      <td>A charming boy and his mother move to a middle...</td>\n",
       "    </tr>\n",
       "    <tr>\n",
       "      <th>9</th>\n",
       "      <td>11232_1</td>\n",
       "      <td>IT IS So Sad. Even though this was shot with f...</td>\n",
       "    </tr>\n",
       "  </tbody>\n",
       "</table>\n",
       "</div>"
      ],
      "text/plain": [
       "        id                                             review\n",
       "0  10633_1  I watched this video at a friend's house. I'm ...\n",
       "1   4489_1  `The Matrix' was an exciting summer blockbuste...\n",
       "2  3304_10  This movie is one among the very few Indian mo...\n",
       "3   3350_3  The script for this movie was probably found i...\n",
       "4   1119_1  Even if this film was allegedly a joke in resp...\n",
       "5   6827_4  Dumb is as dumb does, in this thoroughly unint...\n",
       "6   9788_9  I was at the same screenwriters conference and...\n",
       "7   2395_7  Though it had the misfortune to hit the festiv...\n",
       "8   1782_4  A charming boy and his mother move to a middle...\n",
       "9  11232_1  IT IS So Sad. Even though this was shot with f..."
      ]
     },
     "execution_count": 66,
     "metadata": {},
     "output_type": "execute_result"
    }
   ],
   "source": [
    "data2 = pd.read_csv('./movie_review_noLabel.csv',sep='\\t',encoding='latin-1')\n",
    "data2.head(10)"
   ]
  },
  {
   "cell_type": "code",
   "execution_count": 67,
   "metadata": {
    "colab": {},
    "colab_type": "code",
    "id": "gaHznep6AQfP"
   },
   "outputs": [],
   "source": [
    "X_2 = data2['review']"
   ]
  },
  {
   "cell_type": "code",
   "execution_count": 69,
   "metadata": {
    "colab": {},
    "colab_type": "code",
    "id": "O8MMcL3ICLyn"
   },
   "outputs": [],
   "source": [
    "X_2_tfidf = tfidf.fit_transform(X)\n",
    "predictions_y2 = clf.predict(X_2_tfidf)"
   ]
  },
  {
   "cell_type": "code",
   "execution_count": 71,
   "metadata": {
    "colab": {},
    "colab_type": "code",
    "id": "-RHy-ObzCYmb"
   },
   "outputs": [
    {
     "data": {
      "text/plain": [
       "array([1, 1, 0, ..., 0, 0, 1])"
      ]
     },
     "execution_count": 71,
     "metadata": {},
     "output_type": "execute_result"
    }
   ],
   "source": [
    "predictions_y2"
   ]
  },
  {
   "cell_type": "markdown",
   "metadata": {},
   "source": [
    "### Models Performance Summary\n",
    "\n",
    "\n",
    "| Models | Additional conditions |Accuracy (before features selection) | Accuracy (after features selection)|\n",
    "| --- | --- | --- | --- |\n",
    "| * **Logistic Regression** |---  | **0.884** |  |\n",
    "| Logistic Regression |`chi2, k=45000`  | --- | 0.7644444444444445 |\n",
    "| Decision Tree |---  | 0.7094814814814815 | --- |\n",
    "| Random Forest | default | 0.7585185185185185 | --- |\n",
    "| Random Forest | `n_estimators = 200` | 0.8428148148148148 | --- |\n",
    "| KNN | `k=71` | 0.8065185185185185 | --- |\n",
    "| SVM | `C=1` | 0.8814814814814815 | --- |\n",
    "| SVM | `C=3` | 0.8765925925925926 | --- |\n",
    "| Gaussian Naive Bayes | --- | 0.8622222222222222 | --- |\n",
    "| Multinomial Gaussian Naive Bayes | --- | 0.6687407407407407 | --- |\n"
   ]
  },
  {
   "cell_type": "markdown",
   "metadata": {
    "colab_type": "text",
    "id": "-zXUSigv5zrw"
   },
   "source": [
    "## CONCLUSION"
   ]
  },
  {
   "cell_type": "markdown",
   "metadata": {
    "colab_type": "text",
    "id": "D-B3HXKHEGMF"
   },
   "source": [
    "* Sentiment classification methods above identify texts from the review dataset according to the users opinions toward movies, which are both negative and positive. The extracted data is further enhanced using feature classification techniques and these methopologies facilitate the keywords from the users reviews. After training and testing the dataset, **Logistic Regression** has the **best result** compared to the other methods."
   ]
  }
 ],
 "metadata": {
  "colab": {
   "collapsed_sections": [],
   "name": "Assignmentw4.ipynb",
   "provenance": [],
   "version": "0.3.2"
  },
  "kernelspec": {
   "display_name": "Python 3",
   "language": "python",
   "name": "python3"
  },
  "language_info": {
   "codemirror_mode": {
    "name": "ipython",
    "version": 3
   },
   "file_extension": ".py",
   "mimetype": "text/x-python",
   "name": "python",
   "nbconvert_exporter": "python",
   "pygments_lexer": "ipython3",
   "version": "3.7.3"
  }
 },
 "nbformat": 4,
 "nbformat_minor": 1
}
